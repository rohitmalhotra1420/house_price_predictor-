{
 "cells": [
  {
   "cell_type": "code",
   "execution_count": 12,
   "metadata": {},
   "outputs": [
    {
     "name": "stdout",
     "output_type": "stream",
     "text": [
      "Predictions for the price of first five houses are:\n",
      "    Rooms  Bathroom  Landsize  BuildingArea  YearBuilt  Lattitude  Longtitude\n",
      "2       2       1.0     156.0          79.0     1900.0   -37.8079    144.9934\n",
      "4       3       2.0     134.0         150.0     1900.0   -37.8093    144.9944\n",
      "6       4       1.0     120.0         142.0     2014.0   -37.8072    144.9941\n",
      "11      3       2.0     245.0         210.0     1910.0   -37.8024    144.9993\n",
      "14      2       1.0     256.0         107.0     1890.0   -37.8060    144.9954\n",
      "The predictions are:\n",
      "[1035000. 1465000. 1600000. 1876000. 1636000.]\n"
     ]
    }
   ],
   "source": [
    "import pandas as pd\n",
    "\n",
    "from sklearn.tree import DecisionTreeRegressor\n",
    "\n",
    "df='housing_price.csv'\n",
    "df_read=pd.read_csv(df)\n",
    "\n",
    "filtered_data=df_read.dropna(axis=0)\n",
    "\n",
    "y=filtered_data.Price\n",
    "\n",
    "melbourne_predictors = ['Rooms', 'Bathroom', 'Landsize', 'BuildingArea', \n",
    "                        'YearBuilt', 'Lattitude', 'Longtitude']\n",
    "X=filtered_data[melbourne_predictors]\n",
    "\n",
    "pricing_model=DecisionTreeRegressor()\n",
    "\n",
    "pricing_model.fit(X,y)\n",
    "\n",
    "print \"Predictions for the price of first five houses are:\"\n",
    "\n",
    "print X.head()\n",
    "\n",
    "print \"The predictions are:\"\n",
    "\n",
    "print pricing_model.predict(X.head())\n"
   ]
  },
  {
   "cell_type": "code",
   "execution_count": 14,
   "metadata": {},
   "outputs": [
    {
     "data": {
      "text/plain": [
       "365.36791165156967"
      ]
     },
     "execution_count": 14,
     "metadata": {},
     "output_type": "execute_result"
    }
   ],
   "source": [
    "import pandas as pd\n",
    "\n",
    "from sklearn.tree import DecisionTreeRegressor\n",
    "\n",
    "from sklearn.metrics import mean_absolute_error\n",
    "\n",
    "df='housing_price.csv'\n",
    "df_read=pd.read_csv(df)\n",
    "\n",
    "filtered_data=df_read.dropna(axis=0)\n",
    "\n",
    "y=filtered_data.Price\n",
    "\n",
    "melbourne_predictors = ['Rooms', 'Bathroom', 'Landsize', 'BuildingArea', \n",
    "                        'YearBuilt', 'Lattitude', 'Longtitude']\n",
    "X=filtered_data[melbourne_predictors]\n",
    "\n",
    "pricing_model=DecisionTreeRegressor()\n",
    "\n",
    "pricing_model.fit(X,y)\n",
    "\n",
    "predicted_price=pricing_model.predict(X)\n",
    "\n",
    "mean_absolute_error(y,predicted_price)"
   ]
  },
  {
   "cell_type": "code",
   "execution_count": 4,
   "metadata": {},
   "outputs": [
    {
     "data": {
      "text/plain": [
       "254337.81985111663"
      ]
     },
     "execution_count": 4,
     "metadata": {},
     "output_type": "execute_result"
    }
   ],
   "source": [
    "import pandas as pd\n",
    "\n",
    "from sklearn.tree import DecisionTreeRegressor\n",
    "\n",
    "from sklearn.metrics import mean_absolute_error\n",
    "\n",
    "from sklearn.model_selection import train_test_split\n",
    "\n",
    "df='housing_price.csv'\n",
    "df_read=pd.read_csv(df)\n",
    "\n",
    "filtered_data=df_read.dropna(axis=0)\n",
    "\n",
    "y=filtered_data.Price\n",
    "\n",
    "melbourne_predictors = ['Rooms', 'Bathroom', 'Landsize', 'BuildingArea', 'YearBuilt', 'Lattitude', 'Longtitude']\n",
    "\n",
    "X = filtered_data[melbourne_predictors]\n",
    "\n",
    "pricing_model=DecisionTreeRegressor()\n",
    "\n",
    "train_X, test_X, train_y, test_y = train_test_split(X, y,random_state = 0)\n",
    "\n",
    "pricing_model.fit(train_X,train_y)\n",
    "\n",
    "predicted_price=pricing_model.predict(test_X)\n",
    "\n",
    "mean_absolute_error(test_y,predicted_price)\n",
    "\n"
   ]
  },
  {
   "cell_type": "code",
   "execution_count": 10,
   "metadata": {},
   "outputs": [
    {
     "name": "stdout",
     "output_type": "stream",
     "text": [
      "Max leaf nodes: 5  \t\t Mean Absolute Error:  346210\n",
      "Max leaf nodes: 50  \t\t Mean Absolute Error:  258185\n",
      "Max leaf nodes: 500  \t\t Mean Absolute Error:  239157\n",
      "Max leaf nodes: 5000  \t\t Mean Absolute Error:  249999\n"
     ]
    }
   ],
   "source": [
    "import pandas as pd\n",
    "\n",
    "from sklearn.tree import DecisionTreeRegressor\n",
    "\n",
    "from sklearn.metrics import mean_absolute_error\n",
    "\n",
    "from sklearn.model_selection import train_test_split\n",
    "\n",
    "from sklearn.metrics import accuracy_score\n",
    "\n",
    "df='housing_price.csv'\n",
    "df_read=pd.read_csv(df)\n",
    "\n",
    "filtered_data=df_read.dropna(axis=0)\n",
    "\n",
    "y=filtered_data.Price\n",
    "\n",
    "melbourne_predictors = ['Rooms', 'Bathroom', 'Landsize', 'BuildingArea', 'YearBuilt', 'Lattitude', 'Longtitude']\n",
    "\n",
    "X = filtered_data[melbourne_predictors]\n",
    "\n",
    "pricing_model=DecisionTreeRegressor()\n",
    "\n",
    "train_X, test_X, train_y, test_y = train_test_split(X, y,random_state = 0)\n",
    "\n",
    "def get_mae(max_leaf_nodes, predictors_train, predictors_val, targ_train, targ_val):\n",
    "    model = DecisionTreeRegressor(max_leaf_nodes=max_leaf_nodes, random_state=0)\n",
    "    model.fit(predictors_train, targ_train)\n",
    "    preds_val = model.predict(predictors_val)\n",
    "    mae = mean_absolute_error(targ_val, preds_val)\n",
    "    return(mae)\n",
    "\n",
    "for max_leaf_nodes in [5, 50, 500, 5000]:\n",
    "    my_mae = get_mae(max_leaf_nodes, train_X, test_X, train_y, test_y)\n",
    "    print(\"Max leaf nodes: %d  \\t\\t Mean Absolute Error:  %d\" %(max_leaf_nodes, my_mae))\n"
   ]
  },
  {
   "cell_type": "code",
   "execution_count": 15,
   "metadata": {},
   "outputs": [
    {
     "name": "stdout",
     "output_type": "stream",
     "text": [
      "The predicted values are: \n",
      "[ 718241.89809068  820669.56973609  820669.56973609 ... 1164385.53445677\n",
      "  820669.56973609 1044468.90549025]\n",
      "Max leaf nodes: 5  \t\t Mean Absolute Error:  333163\n",
      "The predicted values are: \n",
      "[ 482081.4574263   672136.94028253 1023338.2173093  ... 1410596.10930976\n",
      "  672136.94028253 1088758.71465363]\n",
      "Max leaf nodes: 50  \t\t Mean Absolute Error:  229000\n",
      "The predicted values are: \n",
      "[ 344018.04271261  714156.65198741  994854.55141779 ... 1399528.85555556\n",
      "  677613.37165946 1083774.57947202]\n",
      "Max leaf nodes: 500  \t\t Mean Absolute Error:  194882\n",
      "The predicted values are: \n",
      "[ 311200.  744000.  935650. ... 1331500.  654800. 1078300.]\n",
      "Max leaf nodes: 5000  \t\t Mean Absolute Error:  192064\n"
     ]
    }
   ],
   "source": [
    "import pandas as pd\n",
    "\n",
    "from sklearn.ensemble import RandomForestRegressor\n",
    "\n",
    "from sklearn.metrics import mean_absolute_error\n",
    "\n",
    "from sklearn.model_selection import train_test_split\n",
    "\n",
    "from sklearn.metrics import accuracy_score\n",
    "\n",
    "df='housing_price.csv'\n",
    "df_read=pd.read_csv(df)\n",
    "\n",
    "filtered_data=df_read.dropna(axis=0)\n",
    "\n",
    "y=filtered_data.Price\n",
    "\n",
    "melbourne_predictors = ['Rooms', 'Bathroom', 'Landsize', 'BuildingArea', 'YearBuilt', 'Lattitude', 'Longtitude']\n",
    "\n",
    "X = filtered_data[melbourne_predictors]\n",
    "\n",
    "pricing_model=DecisionTreeRegressor()\n",
    "\n",
    "train_X, test_X, train_y, test_y = train_test_split(X, y,random_state = 0)\n",
    "\n",
    "def get_mae(max_leaf_nodes, predictors_train, predictors_val, targ_train, targ_val):\n",
    "    model = RandomForestRegressor(max_leaf_nodes=max_leaf_nodes, random_state=0)\n",
    "    model.fit(predictors_train, targ_train)\n",
    "    preds_val = model.predict(predictors_val)\n",
    "    print \"The predicted values are: \"\n",
    "    print preds_val.head()\n",
    "    mae = mean_absolute_error(targ_val, preds_val)\n",
    "    return(mae)\n",
    "\n",
    "for max_leaf_nodes in [5, 50, 500, 5000]:\n",
    "    my_mae = get_mae(max_leaf_nodes, train_X, test_X, train_y, test_y)\n",
    "    print(\"Max leaf nodes: %d  \\t\\t Mean Absolute Error:  %d\" %(max_leaf_nodes, my_mae))"
   ]
  },
  {
   "cell_type": "code",
   "execution_count": null,
   "metadata": {},
   "outputs": [],
   "source": [
    "import pandas as pd\n",
    "\n",
    "from sklearn.ensemble import RandomForestRegressor\n",
    "\n",
    "from sklearn.metrics import mean_absolute_error\n",
    "\n",
    "from sklearn.model_selection import train_test_split\n",
    "\n",
    "from sklearn.preprocessing import Imputer\n",
    "\n",
    "df='housing_price.csv'\n",
    "df_read=pd.read_csv(df)\n",
    "\n",
    "y=df_read.iloc[:,0:6].values\n",
    "\n",
    "X = df_read.iloc[:,-1].values\n",
    "\n",
    "print X,y\n",
    "\n",
    "imputer=Imputer()\n",
    "\n",
    "y[:,0:6]=imputer.fit_transform(y[:,0:6])\n",
    "\n",
    "X[:,-1]=imputer.fit_transform(y[:,-1])\n",
    "print X,y\n",
    "\n",
    "pricing_model=DecisionTreeRegressor()\n",
    "\n",
    "train_X, test_X, train_y, test_y = train_test_split(X, y,random_state = 0)\n",
    "\n",
    "def get_mae(max_leaf_nodes, predictors_train, predictors_val, targ_train, targ_val):\n",
    "    model = RandomForestRegressor(max_leaf_nodes=max_leaf_nodes, random_state=0)\n",
    "    model.fit(predictors_train, targ_train)\n",
    "    preds_val = model.predict(predictors_val)\n",
    "    print \"The predicted values are: \"\n",
    "    print preds_val\n",
    "    mae = mean_absolute_error(targ_val, preds_val)\n",
    "    return(mae)\n",
    "\n",
    "for max_leaf_nodes in [5, 50, 500, 5000]:\n",
    "    my_mae = get_mae(max_leaf_nodes, train_X, test_X, train_y, test_y)\n",
    "    print(\"Max leaf nodes: %d  \\t\\t Mean Absolute Error:  %d\" %(max_leaf_nodes, my_mae))"
   ]
  },
  {
   "cell_type": "code",
   "execution_count": null,
   "metadata": {},
   "outputs": [],
   "source": []
  },
  {
   "cell_type": "code",
   "execution_count": null,
   "metadata": {},
   "outputs": [],
   "source": []
  },
  {
   "cell_type": "code",
   "execution_count": null,
   "metadata": {},
   "outputs": [],
   "source": []
  },
  {
   "cell_type": "code",
   "execution_count": null,
   "metadata": {},
   "outputs": [],
   "source": []
  }
 ],
 "metadata": {
  "kernelspec": {
   "display_name": "Python 2",
   "language": "python",
   "name": "python2"
  },
  "language_info": {
   "codemirror_mode": {
    "name": "ipython",
    "version": 2
   },
   "file_extension": ".py",
   "mimetype": "text/x-python",
   "name": "python",
   "nbconvert_exporter": "python",
   "pygments_lexer": "ipython2",
   "version": "2.7.14"
  }
 },
 "nbformat": 4,
 "nbformat_minor": 2
}
